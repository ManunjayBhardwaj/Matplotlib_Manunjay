{
 "cells": [
  {
   "cell_type": "code",
   "execution_count": null,
   "id": "initial_id",
   "metadata": {
    "collapsed": true
   },
   "outputs": [],
   "source": [
    "# Data Visualization : allows you to brig your data into life\n",
    "# We have to ask us 3 Key questions to get us choose the right visual\n",
    "# Q1 What type of data are you working with?: Is it Time series, Categorical , Numeric or Hierarchical\n",
    "# Q2 What do you want to communicate? : Comparison,Composition, Distribution , Relationship\n",
    "# Q3 Who is end user and what do they need?: Analyst, Manager ,Executive\n",
    "\n",
    "\n",
    "# Essential  Values:\n",
    "# KPI Card, Pie Char, Table, Line Chart, Bar Chart, Scatter PLot, Area Chart, 100% stacked Bar Chart, Histogram\n",
    "\n",
    "# Chart Formatting : should be used to eliminate noise and facilitate understanding\n",
    "\n",
    "# Some Common Errors:\n",
    "# 1) Choosing the wrong visual to represent the type of data\n",
    "# 2) Don't prioritise variety over effectiveness\n",
    "# 3) Including too many series in a single visual\n",
    "# 4) Providing little to no context with text and labels\n",
    "# 5) Using Inconsistent colors between related visuals\n",
    "\n",
    "# 100% stacked bar charts show the composition between the categories in each bar, and allow for comparison with the rest of the bars.\n",
    "\n",
    "\n",
    "# Key Takeaways:\n",
    "# Always ask 3 Key Questions\n",
    "# Do not prioritise variety over effectiveness\n",
    "# Eliminate noise"
   ]
  }
 ],
 "metadata": {
  "kernelspec": {
   "display_name": "Python 3",
   "language": "python",
   "name": "python3"
  },
  "language_info": {
   "codemirror_mode": {
    "name": "ipython",
    "version": 2
   },
   "file_extension": ".py",
   "mimetype": "text/x-python",
   "name": "python",
   "nbconvert_exporter": "python",
   "pygments_lexer": "ipython2",
   "version": "2.7.6"
  }
 },
 "nbformat": 4,
 "nbformat_minor": 5
}
